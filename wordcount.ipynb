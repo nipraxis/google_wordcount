{
 "cells": [
  {
   "cell_type": "markdown",
   "id": "8b522cd9",
   "metadata": {},
   "source": [
    "# Wordcount exercise"
   ]
  },
  {
   "cell_type": "markdown",
   "id": "dfffe0ed",
   "metadata": {},
   "source": [
    "Copyright 2010 Google Inc. Licensed under the Apache License, Version 2.0\n",
    "<http://www.apache.org/licenses/LICENSE-2.0>"
   ]
  },
  {
   "cell_type": "markdown",
   "id": "6ac6afe1",
   "metadata": {},
   "source": [
    "Google's Python Class:\n",
    "<http://code.google.com/edu/languages/google-python-class/>\n"
   ]
  },
  {
   "cell_type": "markdown",
   "id": "267fa4bd",
   "metadata": {},
   "source": [
    "## Introduction\n",
    "\n",
    "The `main()` below is already defined and complete. It calls `print_words()`\n",
    "and `print_top()` functions which you write.\n",
    "\n",
    "1. For the `--count` flag, implement a `print_words(filename)` function that counts\n",
    "how often each word appears in the text and prints:\n",
    "\n",
    "```\n",
    "word1 count1\n",
    "word2 count2\n",
    "...\n",
    "```\n",
    "\n",
    "Print the above list in order sorted by word (Python will sort punctuation to\n",
    "come before letters -- that's fine). Store all the words as lowercase,\n",
    "so 'The' and 'the' count as the same word.\n",
    "\n",
    "2. For the `--topcount` flag, implement a `print_top(filename)` which is similar\n",
    "to `print_words()` but which prints just the top 20 most common words sorted\n",
    "so the most common word is first, then the next most common, and so on.\n",
    "\n",
    "Use `str.split()` (no arguments) to split on all whitespace.\n",
    "\n",
    "Workflow: don't build the whole program at once. Get it to an intermediate\n",
    "milestone and print your data structure and sys.exit(0).\n",
    "When that's working, try for the next milestone.\n",
    "\n",
    "Optional: define a helper function to avoid code duplication inside\n",
    "`print_words()` and `print_top()`.\n"
   ]
  },
  {
   "cell_type": "code",
   "execution_count": null,
   "id": "f0625d70",
   "metadata": {},
   "outputs": [],
   "source": [
    "import sys"
   ]
  },
  {
   "cell_type": "markdown",
   "id": "b196f71e",
   "metadata": {},
   "source": [
    "Define `print_words(filename)` and `print_top(filename)` functions.\n",
    "You could write a helper utility function that reads a file\n",
    "and builds and returns a word/count dict for it.\n",
    "Then `print_words()` and `print_top()` can just call the utility function."
   ]
  },
  {
   "cell_type": "code",
   "execution_count": null,
   "id": "2abf6055",
   "metadata": {
    "title": "++your code here+++"
   },
   "outputs": [],
   "source": [
    "def print_words(filename):\n",
    "    \"\"\"Prints one per line '<word> <count>' sorted by word for the given file.\"\"\"\n",
    "\n",
    "def print_top(filename):\n",
    "    \"\"\"Prints the top count listing for the given file.\"\"\""
   ]
  },
  {
   "cell_type": "code",
   "execution_count": null,
   "id": "cb34724a",
   "metadata": {},
   "outputs": [],
   "source": [
    "# This basic command line argument parsing code is provided and\n",
    "# calls the print_words() and print_top() functions which you must define.\n",
    "def main():\n",
    "    if len(sys.argv) != 3:\n",
    "        print('usage: ./wordcount.py {--count | --topcount} file')\n",
    "        sys.exit(1)\n",
    "\n",
    "    option = sys.argv[1]\n",
    "    filename = sys.argv[2]\n",
    "    if option == '--count':\n",
    "        print_words(filename)\n",
    "    elif option == '--topcount':\n",
    "        print_top(filename)\n",
    "    else:\n",
    "        print('unknown option: ' + option)\n",
    "        sys.exit(1)"
   ]
  }
 ],
 "metadata": {
  "jupytext": {
   "cell_metadata_filter": "title,-all",
   "notebook_metadata_filter": "all,-language_info",
   "split_at_heading": true,
   "text_representation": {
    "extension": ".Rmd",
    "format_name": "rmarkdown",
    "format_version": "1.2",
    "jupytext_version": "1.13.7"
   }
  },
  "kernelspec": {
   "display_name": "Python 3",
   "language": "python",
   "name": "python3"
  }
 },
 "nbformat": 4,
 "nbformat_minor": 5
}
